{
  "nbformat": 4,
  "nbformat_minor": 0,
  "metadata": {
    "colab": {
      "provenance": []
    },
    "kernelspec": {
      "name": "python3",
      "display_name": "Python 3"
    },
    "language_info": {
      "name": "python"
    }
  },
  "cells": [
    {
      "cell_type": "markdown",
      "source": [
        "# Task : Session 1\n",
        "Solve these questions own your own and try to test yourself what you have learned in the session.\n",
        "\n",
        "Happy Learning!"
      ],
      "metadata": {
        "id": "A05OG15VqOPF"
      }
    },
    {
      "cell_type": "markdown",
      "source": [
        "### Q1 :- Print the given strings as per stated format.\n",
        "\n",
        "**Given strings**:\n",
        "```\n",
        "\"Data\" \"Science\" \"Mentorship\" \"Program\"\n",
        "\"By\" \"CampusX\"\n",
        "```\n",
        "**Output**:\n",
        "```\n",
        "Data-Science-Mentorship-Program-started-By-CampusX\n",
        "```\n",
        "\n",
        "Concept- [Seperator and End]"
      ],
      "metadata": {
        "id": "2doIXf8bqe9_"
      }
    },
    {
      "cell_type": "code",
      "source": [
        "print('Data','Science','Mentorship','Program' ,'By', 'CampusX', sep = '-')\n"
      ],
      "metadata": {
        "id": "-em6d3KErDtp",
        "colab": {
          "base_uri": "https://localhost:8080/"
        },
        "outputId": "f74461d3-d716-452a-8bd5-c13f27560972"
      },
      "execution_count": null,
      "outputs": [
        {
          "output_type": "stream",
          "name": "stdout",
          "text": [
            "Data-Science-Mentorship-Program-By-CampusX\n"
          ]
        }
      ]
    },
    {
      "cell_type": "markdown",
      "source": [
        "### Q2:- Write a program that will convert celsius value to fahrenheit."
      ],
      "metadata": {
        "id": "1KUpN7ZTrC3_"
      }
    },
    {
      "cell_type": "code",
      "source": [
        "cel =float(input('enter cel'))\n",
        "fahren =((cel*5)/9)+32\n",
        "print(fahren)"
      ],
      "metadata": {
        "id": "yxKYhYQiqWfj",
        "colab": {
          "base_uri": "https://localhost:8080/",
          "height": 321
        },
        "outputId": "973f7dc2-84b3-410e-bfa0-9919c0b1de19"
      },
      "execution_count": null,
      "outputs": [
        {
          "output_type": "error",
          "ename": "KeyboardInterrupt",
          "evalue": "Interrupted by user",
          "traceback": [
            "\u001b[0;31m---------------------------------------------------------------------------\u001b[0m",
            "\u001b[0;31mKeyboardInterrupt\u001b[0m                         Traceback (most recent call last)",
            "\u001b[0;32m/tmp/ipython-input-6-1803323813.py\u001b[0m in \u001b[0;36m<cell line: 0>\u001b[0;34m()\u001b[0m\n\u001b[0;32m----> 1\u001b[0;31m \u001b[0mcel\u001b[0m \u001b[0;34m=\u001b[0m\u001b[0mfloat\u001b[0m\u001b[0;34m(\u001b[0m\u001b[0minput\u001b[0m\u001b[0;34m(\u001b[0m\u001b[0;34m'enter cel'\u001b[0m\u001b[0;34m)\u001b[0m\u001b[0;34m)\u001b[0m\u001b[0;34m\u001b[0m\u001b[0;34m\u001b[0m\u001b[0m\n\u001b[0m\u001b[1;32m      2\u001b[0m \u001b[0mfahren\u001b[0m \u001b[0;34m=\u001b[0m\u001b[0;34m(\u001b[0m\u001b[0;34m(\u001b[0m\u001b[0mcel\u001b[0m\u001b[0;34m*\u001b[0m\u001b[0;36m5\u001b[0m\u001b[0;34m)\u001b[0m\u001b[0;34m/\u001b[0m\u001b[0;36m9\u001b[0m\u001b[0;34m)\u001b[0m\u001b[0;34m+\u001b[0m\u001b[0;36m32\u001b[0m\u001b[0;34m\u001b[0m\u001b[0;34m\u001b[0m\u001b[0m\n\u001b[1;32m      3\u001b[0m \u001b[0mprint\u001b[0m\u001b[0;34m(\u001b[0m\u001b[0mfahren\u001b[0m\u001b[0;34m)\u001b[0m\u001b[0;34m\u001b[0m\u001b[0;34m\u001b[0m\u001b[0m\n",
            "\u001b[0;32m/usr/local/lib/python3.11/dist-packages/ipykernel/kernelbase.py\u001b[0m in \u001b[0;36mraw_input\u001b[0;34m(self, prompt)\u001b[0m\n\u001b[1;32m   1175\u001b[0m                 \u001b[0;34m\"raw_input was called, but this frontend does not support input requests.\"\u001b[0m\u001b[0;34m\u001b[0m\u001b[0;34m\u001b[0m\u001b[0m\n\u001b[1;32m   1176\u001b[0m             )\n\u001b[0;32m-> 1177\u001b[0;31m         return self._input_request(\n\u001b[0m\u001b[1;32m   1178\u001b[0m             \u001b[0mstr\u001b[0m\u001b[0;34m(\u001b[0m\u001b[0mprompt\u001b[0m\u001b[0;34m)\u001b[0m\u001b[0;34m,\u001b[0m\u001b[0;34m\u001b[0m\u001b[0;34m\u001b[0m\u001b[0m\n\u001b[1;32m   1179\u001b[0m             \u001b[0mself\u001b[0m\u001b[0;34m.\u001b[0m\u001b[0m_parent_ident\u001b[0m\u001b[0;34m[\u001b[0m\u001b[0;34m\"shell\"\u001b[0m\u001b[0;34m]\u001b[0m\u001b[0;34m,\u001b[0m\u001b[0;34m\u001b[0m\u001b[0;34m\u001b[0m\u001b[0m\n",
            "\u001b[0;32m/usr/local/lib/python3.11/dist-packages/ipykernel/kernelbase.py\u001b[0m in \u001b[0;36m_input_request\u001b[0;34m(self, prompt, ident, parent, password)\u001b[0m\n\u001b[1;32m   1217\u001b[0m             \u001b[0;32mexcept\u001b[0m \u001b[0mKeyboardInterrupt\u001b[0m\u001b[0;34m:\u001b[0m\u001b[0;34m\u001b[0m\u001b[0;34m\u001b[0m\u001b[0m\n\u001b[1;32m   1218\u001b[0m                 \u001b[0;31m# re-raise KeyboardInterrupt, to truncate traceback\u001b[0m\u001b[0;34m\u001b[0m\u001b[0;34m\u001b[0m\u001b[0m\n\u001b[0;32m-> 1219\u001b[0;31m                 \u001b[0;32mraise\u001b[0m \u001b[0mKeyboardInterrupt\u001b[0m\u001b[0;34m(\u001b[0m\u001b[0;34m\"Interrupted by user\"\u001b[0m\u001b[0;34m)\u001b[0m \u001b[0;32mfrom\u001b[0m \u001b[0;32mNone\u001b[0m\u001b[0;34m\u001b[0m\u001b[0;34m\u001b[0m\u001b[0m\n\u001b[0m\u001b[1;32m   1220\u001b[0m             \u001b[0;32mexcept\u001b[0m \u001b[0mException\u001b[0m\u001b[0;34m:\u001b[0m\u001b[0;34m\u001b[0m\u001b[0;34m\u001b[0m\u001b[0m\n\u001b[1;32m   1221\u001b[0m                 \u001b[0mself\u001b[0m\u001b[0;34m.\u001b[0m\u001b[0mlog\u001b[0m\u001b[0;34m.\u001b[0m\u001b[0mwarning\u001b[0m\u001b[0;34m(\u001b[0m\u001b[0;34m\"Invalid Message:\"\u001b[0m\u001b[0;34m,\u001b[0m \u001b[0mexc_info\u001b[0m\u001b[0;34m=\u001b[0m\u001b[0;32mTrue\u001b[0m\u001b[0;34m)\u001b[0m\u001b[0;34m\u001b[0m\u001b[0;34m\u001b[0m\u001b[0m\n",
            "\u001b[0;31mKeyboardInterrupt\u001b[0m: Interrupted by user"
          ]
        }
      ]
    },
    {
      "cell_type": "markdown",
      "source": [
        "### Q3:- Take 2 numbers as input from the user.Write a program to swap the numbers without using any special python syntax."
      ],
      "metadata": {
        "id": "RLrOBBJurLB2"
      }
    },
    {
      "cell_type": "code",
      "source": [
        "a=int(input('enter a'))\n",
        "b=int(input('enter b'))\n",
        "result= a+b\n",
        "a=result-a\n",
        "b=result-b\n",
        "print(a,b)"
      ],
      "metadata": {
        "id": "yPn7if0TrJ4F"
      },
      "execution_count": null,
      "outputs": []
    },
    {
      "cell_type": "markdown",
      "source": [
        "### Q4:- Write a program to find the euclidean distance between two coordinates.Take both the coordinates from the user as input."
      ],
      "metadata": {
        "id": "waLCP1bjr7ML"
      }
    },
    {
      "cell_type": "code",
      "source": [
        "a,b=int(input('enter a')), int(input('enter b'))\n",
        "c,d=int(input('enter c')), int(input('enter d'))\n",
        "dist=(a-c)*(a-c)+(b-d)*(b-d)\n",
        "result=pow(dist,0.5)\n",
        "print (result)"
      ],
      "metadata": {
        "id": "Pl1Sv-xnrxnH"
      },
      "execution_count": null,
      "outputs": []
    },
    {
      "cell_type": "markdown",
      "source": [
        "### Q5:- Write a program to find the simple interest when the value of principle,rate of interest and time period is provided by the user.\n"
      ],
      "metadata": {
        "id": "VLrhg-FRsHjR"
      }
    },
    {
      "cell_type": "code",
      "source": [
        "a=int(input('enter a'))\n",
        "b=int(input('enter b'))\n",
        "c=int(input('enter c'))\n",
        "si=(a*b*c)/100\n",
        "print(si)"
      ],
      "metadata": {
        "id": "s40DlReZsTmY"
      },
      "execution_count": null,
      "outputs": []
    },
    {
      "cell_type": "markdown",
      "source": [
        "### Q6:- Write a program that will tell the number of dogs and chicken are there when the user will provide the value of total heads and legs.\n",
        "\n",
        "For example:\n",
        "Input:\n",
        "heads -> 4\n",
        "legs -> 12\n",
        "<br>\n",
        "Output:\n",
        "dogs -> 2\n",
        "chicken -> 2\n",
        "\n",
        "\n",
        "\n"
      ],
      "metadata": {
        "id": "LMy0BTUktYKa"
      }
    },
    {
      "cell_type": "code",
      "source": [
        "head =int (input('heads'))\n",
        "legs =int (input('legs'))\n",
        "\n",
        "#c+d=head\n",
        "#2c+4d=legs\n",
        "d=(legs- 2*head)/2\n",
        "c=head-d\n",
        "print (c)\n",
        "print(d)"
      ],
      "metadata": {
        "id": "XSBvJoA4tXaG"
      },
      "execution_count": null,
      "outputs": []
    },
    {
      "cell_type": "markdown",
      "source": [
        "### Q7:- Write a program to find the sum of squares of first n natural numbers where n will be provided by the user."
      ],
      "metadata": {
        "id": "gJ7C5kZYt4BP"
      }
    },
    {
      "cell_type": "code",
      "source": [
        "n=int(input('enter n'))\n",
        "result=n*(n+1)*(n+2)/6\n",
        "print (result)"
      ],
      "metadata": {
        "id": "_tHsmEHzt2nX"
      },
      "execution_count": null,
      "outputs": []
    },
    {
      "cell_type": "markdown",
      "source": [
        "### Q8:- Given the first 2 terms of an Arithmetic Series.Find the Nth term of the series. Assume all inputs are provided by the user."
      ],
      "metadata": {
        "id": "FHrMM7g-yG1h"
      }
    },
    {
      "cell_type": "code",
      "source": [
        "a=int(input('enter a'))\n",
        "b=int(input('enter b'))\n",
        "n=int(input('enter n'))\n",
        "d=b-a\n",
        "nth=a+(n-1)*d\n",
        "print(nth)"
      ],
      "metadata": {
        "id": "go4_kmZmyVSx"
      },
      "execution_count": null,
      "outputs": []
    },
    {
      "cell_type": "markdown",
      "source": [
        "### Q9:- Given 2 fractions, find the sum of those 2 fractions.Take the numerator and denominator values of the fractions from the user."
      ],
      "metadata": {
        "id": "QgyRX_es1oum"
      }
    },
    {
      "cell_type": "code",
      "source": [
        "b=int(input('enter b'))\n",
        "a=int(input('enter a'))\n",
        "c=int(input('enter c'))\n",
        "d=int(input('enter d'))\n",
        "result=float((a/b )+ (c/d))\n",
        "print(result)"
      ],
      "metadata": {
        "id": "X05xqFS1yW16"
      },
      "execution_count": null,
      "outputs": []
    },
    {
      "cell_type": "markdown",
      "source": [
        "### Q10:- Given the height, width and breadth of a milk tank, you have to find out how many glasses of milk can be obtained? Assume all the inputs are provided by the user.\n",
        "\n",
        "\n",
        "\n",
        "Input:<br>\n",
        "Dimensions of the milk tank<br>\n",
        "H = 20cm, L = 20cm, B = 20cm\n",
        "<br><br>\n",
        "Dimensions of the glass<br>\n",
        "h = 3cm, r = 1cm"
      ],
      "metadata": {
        "id": "eaql38ln13u7"
      }
    },
    {
      "cell_type": "code",
      "source": [
        "b=int(input('enter b'))\n",
        "k=int(input('enter k'))\n",
        "h=int(input('enter h'))\n",
        "m=int(input('enter m'))\n",
        "n=int(input('enter n'))\n",
        "p=int(input('enter p'))\n",
        "glass =(b*k*h)/(m*n*p)\n",
        "print (glass)"
      ],
      "metadata": {
        "id": "FePZqno74eWv"
      },
      "execution_count": null,
      "outputs": []
    }
  ]
}