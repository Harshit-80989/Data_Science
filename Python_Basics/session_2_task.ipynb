{
  "nbformat": 4,
  "nbformat_minor": 0,
  "metadata": {
    "colab": {
      "provenance": []
    },
    "kernelspec": {
      "name": "python3",
      "display_name": "Python 3"
    },
    "language_info": {
      "name": "python"
    }
  },
  "cells": [
    {
      "cell_type": "markdown",
      "source": [
        "### `Problem 1`: Write a program that will give you in hand monthly salary after deduction on CTC - HRA(10%), DA(5%), PF(3%) and taxes deduction as below:\n",
        "\n",
        "> Salary(Lakhs) : Tax(%)\n",
        "\n",
        "*   Below 5 : 0%\n",
        "*   5-10 : 10%\n",
        "*   10-20 : 20%\n",
        "*   aboove 20 : 30%"
      ],
      "metadata": {
        "id": "w6RlOAXV2PWh"
      }
    },
    {
      "cell_type": "code",
      "source": [
        "salary=float(input('enter yearly salary in lakhs i.e lpa'))\n",
        "if salary>=0 and salary<5:\n",
        "   salary=(salary-0.1*salary - 0.05*salary-0.03*salary)/12\n",
        "elif salary>=5 and salary<10:\n",
        "   salary=(salary-0.1*salary - 0.05*salary-0.03*salary- 0.1*salary)/12\n",
        "elif salary>=10 and salary<20:\n",
        "   salary=(salary-0.1*salary - 0.05*salary-0.03*salary - 0.2*salary)/12\n",
        "elif salary>=20:\n",
        "   salary=(salary-0.1*salary - 0.05*salary-0.03*salary - 0.3*salary)/12\n",
        "rounded=round(salary , 4)\n",
        "if rounded>=1 :\n",
        " print('your monthly salary after deduction, in lakhs is', rounded)\n",
        "else :\n",
        "  rounded=round(rounded*100000,4)\n",
        "  print('your monthly salary after deduction, in thousands is', rounded)\n"
      ],
      "metadata": {
        "id": "7tMHvKYO2etI",
        "outputId": "b2e42dcb-9758-4f5d-b66d-ec2b4698ccc3",
        "colab": {
          "base_uri": "https://localhost:8080/"
        }
      },
      "execution_count": null,
      "outputs": [
        {
          "output_type": "stream",
          "name": "stdout",
          "text": [
            "enter yearly salary in lakhs i.e lpa18\n",
            "your monthly salary after deduction, in thousands is 93000.0\n"
          ]
        }
      ]
    },
    {
      "cell_type": "markdown",
      "source": [
        "### `Problem 2`: Write a program that take a user input of three angles and will find out whether it can form a triangle or not."
      ],
      "metadata": {
        "id": "tYzCGqwl2hfN"
      }
    },
    {
      "cell_type": "code",
      "source": [
        "print('enter angles in degree')\n",
        "angle1= float(input('enter angle 1 '))\n",
        "angle2= float(input('enter angle 2 '))\n",
        "angle3= float(input('enter angle 3 '))\n",
        "if angle1 + angle2 + angle3 == 180:\n",
        "  print('the figure is an triangle')\n",
        "else:\n",
        "    print('the figure is not an triangle')"
      ],
      "metadata": {
        "id": "FYEqln-I2kxV",
        "colab": {
          "base_uri": "https://localhost:8080/"
        },
        "outputId": "fb05f4dc-e0e9-4e01-dc2b-9786dd83d79e"
      },
      "execution_count": null,
      "outputs": [
        {
          "output_type": "stream",
          "name": "stdout",
          "text": [
            "enter angles in degree\n",
            "enter angle 1 60\n",
            "enter angle 2 37\n",
            "enter angle 3 110\n",
            "the figure is not an triangle\n"
          ]
        }
      ]
    },
    {
      "cell_type": "markdown",
      "source": [
        "### `Problem 3`: Write a program that will take user input of cost price and selling price and determines whether its a loss or a profit."
      ],
      "metadata": {
        "id": "5vEpPh8C2pE4"
      }
    },
    {
      "cell_type": "code",
      "source": [
        "cp=float(input('enter cp '))\n",
        "sp=float(input('enter sp '))\n",
        "if sp> cp:\n",
        "  print('you made profit')\n",
        "elif sp == cp:\n",
        "    print('you made neither profit nor loss')\n",
        "else:\n",
        "  print('you made loss')"
      ],
      "metadata": {
        "id": "jDwBXlkO2sfl",
        "colab": {
          "base_uri": "https://localhost:8080/"
        },
        "outputId": "d93a9e7b-c062-4f06-8d67-8aece26e451a"
      },
      "execution_count": null,
      "outputs": [
        {
          "output_type": "stream",
          "name": "stdout",
          "text": [
            "enter cp 20\n",
            "enter sp 20\n",
            "you made neither profit nor loss\n"
          ]
        }
      ]
    },
    {
      "cell_type": "markdown",
      "source": [
        "### `Problem 4`: Write a menu-driven program -\n",
        "1. cm to ft\n",
        "2. km to miles\n",
        "3. USD to INR\n",
        "4. exit"
      ],
      "metadata": {
        "id": "J_FG_cJW2ugT"
      }
    },
    {
      "cell_type": "code",
      "source": [
        "print('put the initials for conbversions')\n",
        "print(' 1. cm to ft 2.km to miles 3.USD to INR 4.exit')\n",
        "op=int(input('initials'))\n",
        "if op>=1 and op <=3:\n",
        " num =float(input('eneter value to be converted'))\n",
        " if op == 1:\n",
        "   num = num*0.0328084\n",
        " elif op == 2:\n",
        "   num = num*0.621371\n",
        " elif op == 3:\n",
        "   num = num*86.77\n",
        " print('the converted value is ' , num)\n",
        "else :\n",
        "  print('exiting')\n",
        "\n"
      ],
      "metadata": {
        "id": "yBHhaCGQ2zpD",
        "colab": {
          "base_uri": "https://localhost:8080/"
        },
        "outputId": "aaaf953b-8624-4875-f04d-ffd4076a22f1"
      },
      "execution_count": null,
      "outputs": [
        {
          "output_type": "stream",
          "name": "stdout",
          "text": [
            "put the initials for conbversions\n",
            " 1. cm to ft 2.km to miles 3.USD to INR 4.exit\n",
            "initials3\n",
            "eneter value to be converted1\n",
            "the converted value is  86.77\n"
          ]
        }
      ]
    },
    {
      "cell_type": "markdown",
      "source": [
        "### `Problem 5` - Exercise 12: Display Fibonacci series up to 10 terms.\n",
        "\n",
        "*Note: The Fibonacci Sequence is a series of numbers. The next number is found by adding up the two numbers before it. The first two numbers are 0 and 1. For example, 0, 1, 1, 2, 3, 5, 8, 13, 21. The next number in this series above is 13+21 = 34*"
      ],
      "metadata": {
        "id": "LJJ30_Yw27ZU"
      }
    },
    {
      "cell_type": "code",
      "source": [
        "a,b=0,1\n",
        "print(a)\n",
        "\n",
        "for i in range(1,10):\n",
        " print(b)\n",
        " c=a+b\n",
        " a=b\n",
        " b=c\n",
        " #30 min lg gye , ques me"
      ],
      "metadata": {
        "id": "ae_1rpe52-5R",
        "colab": {
          "base_uri": "https://localhost:8080/"
        },
        "outputId": "537f73b8-083d-45c5-f3ae-938a2ddea69e"
      },
      "execution_count": null,
      "outputs": [
        {
          "output_type": "stream",
          "name": "stdout",
          "text": [
            "0\n",
            "1\n",
            "1\n",
            "2\n",
            "3\n",
            "5\n",
            "8\n",
            "13\n",
            "21\n",
            "34\n"
          ]
        }
      ]
    },
    {
      "cell_type": "markdown",
      "source": [
        "### `Problem 6` - Find the factorial of a given number.\n",
        "\n",
        "Write a program to use the loop to find the factorial of a given number.\n",
        "\n",
        "The factorial (symbol: `!`) means to multiply all whole numbers from the chosen number down to 1.\n",
        "\n",
        "For example: calculate the factorial of 5\n",
        "\n",
        "```bash\n",
        "5! = 5 × 4 × 3 × 2 × 1 = 120\n",
        "```\n",
        "\n",
        "Output:\n",
        "\n",
        "```bash\n",
        "120\n",
        "```"
      ],
      "metadata": {
        "id": "pk_I_S4m3PT5"
      }
    },
    {
      "cell_type": "code",
      "source": [
        "num=int(input(\"enter num\"))\n",
        "d=num-1\n",
        "c=num*d\n",
        "while d!=1:\n",
        "  d=d-1\n",
        "  c=c*d\n",
        "\n",
        "print(c)\n",
        "#16 min lgee"
      ],
      "metadata": {
        "id": "lzXxHegx3Rkc",
        "colab": {
          "base_uri": "https://localhost:8080/"
        },
        "outputId": "e9b9c630-59c8-4122-8758-76cb30c3402f"
      },
      "execution_count": null,
      "outputs": [
        {
          "output_type": "stream",
          "name": "stdout",
          "text": [
            "enter num5\n",
            "120\n"
          ]
        }
      ]
    },
    {
      "cell_type": "markdown",
      "source": [
        "### `Problem 7` - Reverse a given integer number.\n",
        "\n",
        "Example:\n",
        "\n",
        "`Input:`\n",
        "\n",
        "```bash\n",
        "76542\n",
        "```\n",
        "\n",
        "`Output:`\n",
        "\n",
        "```bash\n",
        "24567\n",
        "```"
      ],
      "metadata": {
        "id": "-17IOi-g3UpU"
      }
    },
    {
      "cell_type": "code",
      "source": [
        "n=int(input('int '))\n",
        "while n != 0:\n",
        "  a=n%10\n",
        "  n=n//10\n",
        "  print(a,end='')\n",
        "  #15 minutes"
      ],
      "metadata": {
        "id": "wJwLpKCr3aVA",
        "colab": {
          "base_uri": "https://localhost:8080/"
        },
        "outputId": "478e6d06-e700-49ec-acec-6e68a7044a21"
      },
      "execution_count": null,
      "outputs": [
        {
          "output_type": "stream",
          "name": "stdout",
          "text": [
            "int 17869\n",
            "96871"
          ]
        }
      ]
    },
    {
      "cell_type": "markdown",
      "source": [
        "### `Problem 8`: Take a user input as integer N. Find out the sum from 1 to N. If any number if divisible by 5, then skip that number. And if the sum is greater than 300, don't need to calculate the sum further more. Print the final result. And don't use for loop to solve this problem.\n",
        "\n",
        "**Example 1:**\n",
        "\n",
        "`Input:`\n",
        "\n",
        "```bash\n",
        "30\n",
        "```\n",
        "\n",
        "`Output:`\n",
        "\n",
        "```bash\n",
        "276\n",
        "```"
      ],
      "metadata": {
        "id": "-t8PJQaY3sHf"
      }
    },
    {
      "cell_type": "code",
      "source": [
        "n = int(input('enter num '))\n",
        "sum = 0\n",
        "i = 1\n",
        "while i < n+1:\n",
        "    if i % 5 != 0:\n",
        "        if sum +i>300:\n",
        "          break\n",
        "        sum=sum+i\n",
        "    i = i + 1\n",
        "print(sum)\n"
      ],
      "metadata": {
        "id": "GZB6mGMP3ujT",
        "colab": {
          "base_uri": "https://localhost:8080/"
        },
        "outputId": "f11a9cc7-8371-443d-e9e5-9faaf30b93ee"
      },
      "execution_count": null,
      "outputs": [
        {
          "output_type": "stream",
          "name": "stdout",
          "text": [
            "enter num 30\n",
            "276\n"
          ]
        }
      ]
    },
    {
      "cell_type": "markdown",
      "source": [
        "### `Problem 9`: Write a program that keeps on accepting a number from the user until the user enters Zero. Display the sum and average of all the numbers."
      ],
      "metadata": {
        "id": "Q7ggImeA3xm4"
      }
    },
    {
      "cell_type": "code",
      "source": [
        "sum=0\n",
        "count=0\n",
        "n=None\n",
        "while n != 0:\n",
        "  n = int(input('num '))\n",
        "  if n==0:\n",
        "    break\n",
        "  sum=sum +n\n",
        "  count= count+1\n",
        "  average =sum//count\n",
        "print (sum , average)"
      ],
      "metadata": {
        "id": "t_YDSZDe4Kdo",
        "colab": {
          "base_uri": "https://localhost:8080/"
        },
        "outputId": "c493efb7-19dc-47c1-9517-813a562ac4ef"
      },
      "execution_count": null,
      "outputs": [
        {
          "output_type": "stream",
          "name": "stdout",
          "text": [
            "num 2\n",
            "num 2\n",
            "num 2\n",
            "num 2\n",
            "num 0\n",
            "8 2\n"
          ]
        }
      ]
    },
    {
      "cell_type": "markdown",
      "source": [
        "###`Problem 9`: Write a program which will find all such numbers which are divisible by 7 but are not a multiple of 5, between 2000 and 3200 (both included). The numbers obtained should be printed in a comma-separated sequence on a single line."
      ],
      "metadata": {
        "id": "6EhvEMvm4R7s"
      }
    },
    {
      "cell_type": "code",
      "source": [
        "n=2000\n",
        "fr=True\n",
        "while n<=3200:\n",
        "  if n%7==0 and n%5!=0:\n",
        "   if fr:\n",
        "     print(n,end=\" \")\n",
        "     fr= False\n",
        "   else:\n",
        "     print(\",\",n,end=\"\")\n",
        "  n=n+1"
      ],
      "metadata": {
        "id": "d6RgP1B34T6c",
        "colab": {
          "base_uri": "https://localhost:8080/"
        },
        "outputId": "103d3e3d-e2c1-4592-b58f-97f1ecaf3192"
      },
      "execution_count": null,
      "outputs": [
        {
          "output_type": "stream",
          "name": "stdout",
          "text": [
            "2002 , 2009, 2016, 2023, 2037, 2044, 2051, 2058, 2072, 2079, 2086, 2093, 2107, 2114, 2121, 2128, 2142, 2149, 2156, 2163, 2177, 2184, 2191, 2198, 2212, 2219, 2226, 2233, 2247, 2254, 2261, 2268, 2282, 2289, 2296, 2303, 2317, 2324, 2331, 2338, 2352, 2359, 2366, 2373, 2387, 2394, 2401, 2408, 2422, 2429, 2436, 2443, 2457, 2464, 2471, 2478, 2492, 2499, 2506, 2513, 2527, 2534, 2541, 2548, 2562, 2569, 2576, 2583, 2597, 2604, 2611, 2618, 2632, 2639, 2646, 2653, 2667, 2674, 2681, 2688, 2702, 2709, 2716, 2723, 2737, 2744, 2751, 2758, 2772, 2779, 2786, 2793, 2807, 2814, 2821, 2828, 2842, 2849, 2856, 2863, 2877, 2884, 2891, 2898, 2912, 2919, 2926, 2933, 2947, 2954, 2961, 2968, 2982, 2989, 2996, 3003, 3017, 3024, 3031, 3038, 3052, 3059, 3066, 3073, 3087, 3094, 3101, 3108, 3122, 3129, 3136, 3143, 3157, 3164, 3171, 3178, 3192, 3199"
          ]
        }
      ]
    },
    {
      "cell_type": "markdown",
      "source": [
        "###`Problem 10`: Write a program, which will find all such numbers between 1000 and 3000 (both included) such that each digit of the number is an even number. The numbers obtained should be printed in a space-separated sequence on a single line.\n",
        "\n"
      ],
      "metadata": {
        "id": "tYvmRR-G4Vp4"
      }
    },
    {
      "cell_type": "code",
      "source": [
        "n=1000\n",
        "while n<=3000:\n",
        "  temp=n\n",
        "  rf=True\n",
        "  while temp>0:\n",
        "    a=temp%10\n",
        "    if a%2 != 0:\n",
        "      rf=False\n",
        "      break\n",
        "    else:\n",
        "      temp=temp//10\n",
        "  if rf:\n",
        "   print (n,end=' ')\n",
        "  n=n+1"
      ],
      "metadata": {
        "id": "k6Gs1kIf4k19",
        "colab": {
          "base_uri": "https://localhost:8080/"
        },
        "outputId": "e795ed4f-cb92-4a89-eac3-e2d7611b6744"
      },
      "execution_count": null,
      "outputs": [
        {
          "output_type": "stream",
          "name": "stdout",
          "text": [
            "2000 2002 2004 2006 2008 2020 2022 2024 2026 2028 2040 2042 2044 2046 2048 2060 2062 2064 2066 2068 2080 2082 2084 2086 2088 2200 2202 2204 2206 2208 2220 2222 2224 2226 2228 2240 2242 2244 2246 2248 2260 2262 2264 2266 2268 2280 2282 2284 2286 2288 2400 2402 2404 2406 2408 2420 2422 2424 2426 2428 2440 2442 2444 2446 2448 2460 2462 2464 2466 2468 2480 2482 2484 2486 2488 2600 2602 2604 2606 2608 2620 2622 2624 2626 2628 2640 2642 2644 2646 2648 2660 2662 2664 2666 2668 2680 2682 2684 2686 2688 2800 2802 2804 2806 2808 2820 2822 2824 2826 2828 2840 2842 2844 2846 2848 2860 2862 2864 2866 2868 2880 2882 2884 2886 2888 "
          ]
        }
      ]
    },
    {
      "cell_type": "markdown",
      "source": [
        "###`Problem 11`: A robot moves in a plane starting from the original point (0,0). The robot can move toward UP, DOWN, LEFT and RIGHT with a given steps.\n",
        "The trace of robot movement is shown as the following:\n",
        "```\n",
        "UP 5\n",
        "DOWN 3\n",
        "LEFT 3\n",
        "RIGHT 2\n",
        "!\n",
        "```\n",
        "> The numbers after the direction are steps.\n",
        "\n",
        "> `!` means robot stop there.\n",
        "\n",
        "**Please write a program to compute the distance from current position after a sequence of movement and original point.**\n",
        "\n",
        "*If the distance is a float, then just print the nearest integer.*\n",
        "\n",
        "Example:\n",
        "\n",
        "`Input`:\n",
        "```\n",
        "UP 5\n",
        "DOWN 3\n",
        "LEFT 3\n",
        "RIGHT 2\n",
        "!\n",
        "```\n",
        "`Output`:\n",
        "```\n",
        "2\n",
        "```"
      ],
      "metadata": {
        "id": "GV18IINT4mf5"
      }
    },
    {
      "cell_type": "code",
      "source": [
        "x=0\n",
        "y=0\n",
        "up=int(input('up'))\n",
        "down=int(input('down'))\n",
        "left=int(input('left'))\n",
        "right=int(input('right'))\n",
        "x=left-right\n",
        "y=up-down\n",
        "a=pow(pow(x,2)+pow(y,2),0.5)\n",
        "print(int(a))"
      ],
      "metadata": {
        "id": "6UNMC2aR4w5x",
        "colab": {
          "base_uri": "https://localhost:8080/"
        },
        "outputId": "ce1ae1ec-f77e-4b3e-ab83-9ab2f79e31a0"
      },
      "execution_count": null,
      "outputs": [
        {
          "output_type": "stream",
          "name": "stdout",
          "text": [
            "up2\n",
            "down2\n",
            "left0\n",
            "right4\n",
            "4\n"
          ]
        }
      ]
    },
    {
      "cell_type": "markdown",
      "source": [
        "###`Problem 12`:Write a program to print whether a given number is a prime number or not"
      ],
      "metadata": {
        "id": "3fsAIAhK5GYY"
      }
    },
    {
      "cell_type": "code",
      "source": [
        "num = int(input(\"num: \"))\n",
        "\n",
        "if num <= 1:\n",
        "    print( num, \"nhi hota prime number \")\n",
        "else:\n",
        "    for i in range(2, num):\n",
        "        if num % i == 0:\n",
        "            print(\" prime no. do ,ye nhi hai prime \")\n",
        "            break\n",
        "    else:\n",
        "        print(\"prime \")\n"
      ],
      "metadata": {
        "id": "j6y91lxy5LZs",
        "colab": {
          "base_uri": "https://localhost:8080/"
        },
        "outputId": "03f018b7-ed28-45dd-9c7d-e51cf2ac8ddf"
      },
      "execution_count": null,
      "outputs": [
        {
          "output_type": "stream",
          "name": "stdout",
          "text": [
            "num: 1\n",
            "1 nhi hota prime number \n"
          ]
        }
      ]
    },
    {
      "cell_type": "markdown",
      "source": [
        "###`Problem 13`:Print all the Armstrong numbers in a given range.\n",
        "Range will be provided by the user<br>\n",
        "Armstrong number is a number that is equal to the sum of cubes of its digits. For example 0, 1, 153, 370, 371 and 407 are the Armstrong numbers."
      ],
      "metadata": {
        "id": "asAbmbK-5NHv"
      }
    },
    {
      "cell_type": "code",
      "source": [
        "x = int(input(\"Enter lower limit \"))\n",
        "y = int(input(\"Enter upper limit \"))\n",
        "\n",
        "for i in range(x, y):\n",
        "    temp = i\n",
        "    sum = 0\n",
        "    while temp > 0:\n",
        "        a = temp % 10\n",
        "        temp = temp // 10\n",
        "        sum =sum+pow(a,3)\n",
        "    if i == sum:\n",
        "        print(i)\n"
      ],
      "metadata": {
        "id": "PZuI67pm5jCT",
        "colab": {
          "base_uri": "https://localhost:8080/"
        },
        "outputId": "d4a56344-b76f-45f1-b70f-e31893605fab"
      },
      "execution_count": null,
      "outputs": [
        {
          "output_type": "stream",
          "name": "stdout",
          "text": [
            "Enter lower limit 0\n",
            "Enter upper limit 408\n",
            "0\n",
            "1\n",
            "153\n",
            "370\n",
            "371\n",
            "407\n"
          ]
        }
      ]
    },
    {
      "cell_type": "markdown",
      "source": [
        "###`Problem 14`:Calculate the angle between the hour hand and minute hand.\n",
        "\n",
        "Note: There can be two angles between hands; we need to print a minimum of two. Also, we need to print the floor of the final result angle. For example, if the final angle is 10.61, we need to print 10.\n",
        "\n",
        "Input:<br>\n",
        "H = 9 , M = 0<br>\n",
        "Output:<br>\n",
        "90<br>\n",
        "Explanation:<br>\n",
        "The minimum angle between hour and minute\n",
        "hand when the time is 9 is 90 degress."
      ],
      "metadata": {
        "id": "ClCQZMqT7gK0"
      }
    },
    {
      "cell_type": "code",
      "source": [
        "import math\n",
        "h=int(input('hour'))\n",
        "m=int(input('min'))\n",
        "angle=30*h-5.5*m\n",
        "if angle<=0:\n",
        "  angle= -(angle)\n",
        "result = min(angle,360- angle)\n",
        "print(math.floor(result))"
      ],
      "metadata": {
        "id": "tNBTCZML7jy_",
        "colab": {
          "base_uri": "https://localhost:8080/"
        },
        "outputId": "e48943db-8b88-48d0-ca5f-c8ecb5d62604"
      },
      "execution_count": null,
      "outputs": [
        {
          "output_type": "stream",
          "name": "stdout",
          "text": [
            "hour0\n",
            "min0\n",
            "0\n"
          ]
        }
      ]
    },
    {
      "cell_type": "markdown",
      "source": [
        "###`Problem 15`:Given two rectangles, find if the given two rectangles overlap or not. A rectangle is denoted by providing the x and y coordinates of two points: the left top corner and the right bottom corner of the rectangle. Two rectangles sharing a side are considered overlapping. (L1 and R1 are the extreme points of the first rectangle and L2 and R2 are the extreme points of the second rectangle).\n",
        "\n",
        "Note: It may be assumed that the rectangles are parallel to the coordinate axis.\n",
        "\n",
        "<img src='https://www.geeksforgeeks.org/wp-content/uploads/rectanglesOverlap.png' width='300' height='200'>"
      ],
      "metadata": {
        "id": "GwacF9Co72Qc"
      }
    },
    {
      "cell_type": "code",
      "source": [
        "L1x = int(input('L1x: '))\n",
        "L1y = int(input('L1y: '))\n",
        "R1x = int(input('R1x: '))\n",
        "R1y = int(input('R1y: '))\n",
        "L2x = int(input('L2x: '))\n",
        "L2y = int(input('L2y: '))\n",
        "R2x = int(input('R2x: '))\n",
        "R2y = int(input('R2y: '))\n",
        "\n",
        "if R1x < L2x or R2x < L1x:\n",
        "    print('no overlap')\n",
        "\n",
        "elif R1y > L2y or R2y > L1y:\n",
        "    print('no overlap')\n",
        "\n",
        "else:\n",
        "    print('overlap')"
      ],
      "metadata": {
        "id": "6rrw_lpH78Rs",
        "colab": {
          "base_uri": "https://localhost:8080/"
        },
        "outputId": "c75e110d-152c-476c-9cde-1f091104103a"
      },
      "execution_count": 1,
      "outputs": [
        {
          "output_type": "stream",
          "name": "stdout",
          "text": [
            "L1x: 0\n",
            "L1y: 0\n",
            "R1x: 1\n",
            "R1y: 1\n",
            "L2x: 2\n",
            "L2y: 2\n",
            "R2x: 3\n",
            "R2y: 3\n",
            "no overlap\n"
          ]
        }
      ]
    }
  ]
}