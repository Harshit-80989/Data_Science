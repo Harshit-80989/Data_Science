{
  "nbformat": 4,
  "nbformat_minor": 0,
  "metadata": {
    "colab": {
      "provenance": []
    },
    "kernelspec": {
      "name": "python3",
      "display_name": "Python 3"
    },
    "language_info": {
      "name": "python"
    }
  },
  "cells": [
    {
      "cell_type": "markdown",
      "source": [
        "##`Q-1:` Rectangle Class\n",
        "1. Write a Rectangle class in Python language, allowing you to build a rectangle with length and width attributes.\n",
        "\n",
        "2. Create a Perimeter() method to calculate the perimeter of the rectangle and a Area() method to calculate the area of ​​the rectangle.\n",
        "\n",
        "3. Create a method display() that display the length, width, perimeter and area of an object created using an instantiation on rectangle class."
      ],
      "metadata": {
        "id": "FyUJ3PRAsPr4"
      }
    },
    {
      "cell_type": "markdown",
      "source": [
        "Eg.\n",
        "After making above classes and methods, on executing below code:-\n",
        "```\n",
        "my_rectangle = Rectangle(3 , 4)\n",
        "my_rectangle.display()\n",
        "```\n",
        "\n",
        "`Output:`\n",
        "```\n",
        "The length of rectangle is:  3\n",
        "The width of rectangle is:  4\n",
        "The perimeter of rectangle is:  14\n",
        "The area of rectangle is:  12\n",
        "```\n"
      ],
      "metadata": {
        "id": "GxUtOqJfssFK"
      }
    },
    {
      "cell_type": "code",
      "source": [
        "class Rectangle:\n",
        " def __init__ (self,length,width):\n",
        "  self.length =length\n",
        "  self.width=width\n",
        "\n",
        " def len_wid(self):\n",
        "  print('length of rectangle is',self.length)\n",
        "  print('width of rectangle is', self.width)\n",
        "\n",
        " def peri(self):\n",
        "  perimeter=4*(self.length+self.width)\n",
        "  print('the perimeter is',perimeter)\n",
        "\n",
        " def area(self):\n",
        "  area=self.length*self.width\n",
        "  print('the area is', area)"
      ],
      "metadata": {
        "id": "92_QT-Uj6NBg"
      },
      "execution_count": null,
      "outputs": []
    },
    {
      "cell_type": "code",
      "source": [
        "p1=Rectangle(1,2)\n",
        "p1.len_wid()\n",
        "p1.peri()\n",
        "p1.area()"
      ],
      "metadata": {
        "colab": {
          "base_uri": "https://localhost:8080/"
        },
        "id": "mz-CWzxx_P3X",
        "outputId": "afade5ed-b05b-41bd-d6ab-c779deec5c59"
      },
      "execution_count": null,
      "outputs": [
        {
          "output_type": "stream",
          "name": "stdout",
          "text": [
            "length of rectangle is 1\n",
            "width of rectangle is 2\n",
            "the perimeter is 12\n",
            "the area is 2\n"
          ]
        }
      ]
    },
    {
      "cell_type": "markdown",
      "source": [
        "##`Q-2: Bank Class`\n",
        "\n",
        "1. Create a Python class called `BankAccount` which represents a bank account, having as attributes: `accountNumber` (numeric type), `name` (name of the account owner as string type), `balance`.\n",
        "2. Create a constructor with parameters: `accountNumber, name, balance`.\n",
        "3. Create a `Deposit()` method which manages the deposit actions.\n",
        "4. Create a `Withdrawal()` method  which manages withdrawals actions.\n",
        "5. Create an `bankFees()` method to apply the bank fees with a percentage of 5% of the balance account.\n",
        "6. Create a `display()` method to display account details.\n",
        "Give the complete code for the  BankAccount class."
      ],
      "metadata": {
        "id": "r_GxrS0Vrdom"
      }
    },
    {
      "cell_type": "markdown",
      "source": [
        "Eg.\n",
        "After making above classes and methods, on executing below code:-\n",
        "```\n",
        "newAccount = BankAccount(2178514584, \"Mandy\" , 2800)\n",
        "\n",
        "newAccount.Withdrawal(700)\n",
        "\n",
        "newAccount.Deposit(1000)\n",
        "\n",
        "newAccount.display()\n",
        "```\n",
        "\n",
        "`Output:`\n",
        "```\n",
        "Account Number :  2178514584\n",
        "Account Name :  Mandy\n",
        "Account Balance :  3100 ₹\n",
        "```"
      ],
      "metadata": {
        "id": "qvVkOUJgvTV_"
      }
    },
    {
      "cell_type": "code",
      "source": [
        "class BankAccount:\n",
        "  def __init__(self,accountnum,name,balance):\n",
        "\n",
        "   self.accountnum=accountnum\n",
        "   self.balance=balance\n",
        "   self.name=name\n",
        "   self.menu()\n",
        "\n",
        "  def menu(self):\n",
        "     user_input=input(\"\"\"press num for operations\n",
        "             1--> withdraw\n",
        "             2-->deposit\n",
        "             3-->bankfees\n",
        "             4-->Account Details\n",
        "             5--> exit\n",
        "                 \"\"\")\n",
        "\n",
        "     if user_input =='1':\n",
        "      self.withdraw()\n",
        "\n",
        "     elif user_input=='2':\n",
        "      self.deposit()\n",
        "\n",
        "     elif user_input=='3':\n",
        "      self.bankfee()\n",
        "\n",
        "     elif user_input=='4':\n",
        "      self.accdetail()\n",
        "\n",
        "     else:\n",
        "      exit()\n",
        "\n",
        "\n",
        "  def withdraw(self):\n",
        "    amount=int(input('enter amount to withdraw'))\n",
        "    if amount>=0 and self.balance>=amount:\n",
        "      self.balance=self.balance - amount\n",
        "      print('updated balance is',self.balance)\n",
        "    elif amount > self.balance:\n",
        "      print('paisa nhi hai')\n",
        "    else:\n",
        "      print(\"ulta paisa nhi nilta hai\")\n",
        "    self.menu()\n",
        "\n",
        "  def deposit(self):\n",
        "   amount=int(input('enter amount to deposit'))\n",
        "   if amount>=0 :\n",
        "    self.balance=self.balance + amount\n",
        "    print(\"updated balance is\",self.balance)\n",
        "   else:\n",
        "    print(\"itna paisa kyaa kroge account me daal kr\")\n",
        "   self.menu()\n",
        "\n",
        "\n",
        "  def bankfee(self):\n",
        "   bankfees=self.balance*0.05\n",
        "   self.balance=self.balance-bankfees\n",
        "   print(\"updated bank balance is\",self.balance)\n",
        "   self.menu()\n",
        "\n",
        "  def accdetail(self):\n",
        "    print(\"account num: \",self.accountnum)\n",
        "    print(\"name: \",self.name)\n",
        "    print(f\"balance:{self.balance:.2f}\")\n",
        "    self.menu()\n"
      ],
      "metadata": {
        "id": "fUQOmQyA6YDR"
      },
      "execution_count": null,
      "outputs": []
    },
    {
      "cell_type": "code",
      "source": [
        "newAccount = BankAccount(2178514584, \"Mandy\" , 2800)"
      ],
      "metadata": {
        "colab": {
          "base_uri": "https://localhost:8080/"
        },
        "id": "p_t7QSx92Tkq",
        "outputId": "abfd097a-3ecb-40c1-cb66-848dbe303f2f"
      },
      "execution_count": null,
      "outputs": [
        {
          "name": "stdout",
          "output_type": "stream",
          "text": [
            "press num for operations\n",
            "             1--> withdraw\n",
            "             2-->deposit\n",
            "             3-->bankfees\n",
            "             4-->Account Details\n",
            "             5--> exit\n",
            "                 2\n",
            "enter amount to deposit500\n",
            "updated balance is 3300\n",
            "press num for operations\n",
            "             1--> withdraw\n",
            "             2-->deposit\n",
            "             3-->bankfees\n",
            "             4-->Account Details\n",
            "             5--> exit\n",
            "                 1\n",
            "enter amount to withdraw3300\n",
            "updated balance is 0\n",
            "press num for operations\n",
            "             1--> withdraw\n",
            "             2-->deposit\n",
            "             3-->bankfees\n",
            "             4-->Account Details\n",
            "             5--> exit\n",
            "                 4\n",
            "account num:  2178514584\n",
            "name:  Mandy\n",
            "balance:0.00\n",
            "press num for operations\n",
            "             1--> withdraw\n",
            "             2-->deposit\n",
            "             3-->bankfees\n",
            "             4-->Account Details\n",
            "             5--> exit\n",
            "                 5\n"
          ]
        }
      ]
    },
    {
      "cell_type": "markdown",
      "source": [
        "##`Q-3:Computation class`\n",
        "\n",
        "1. Create a `Computation` class with a default constructor (without parameters) allowing to perform various calculations on integers numbers.\n",
        "2. Create a method called `Factorial()` which allows to calculate the factorial of an integer n. Integer n as parameter for this method\n",
        "\n",
        "3. Create a method called `naturalSum()` allowing to calculate the sum of the first n integers 1 + 2 + 3 + .. + n. Integer n as parameter for this method.\n",
        "\n",
        "4. Create a method called `testPrime()` in  the Calculation class to test the primality of a given integer n, n is Prime or Not? Integer n as parameter for this method.\n",
        "\n",
        "5. Create  a method called `testPrims()` allowing to test if two numbers are prime between them. Two integers are prime to one another if they have only `1` as their common divisor. Eg. 4 and 9 are prime to each other.\n",
        "\n",
        "5. Create a `tableMult()` method which creates and displays the multiplication table of a given integer. Then create an `allTablesMult()` method to display all the integer multiplication tables 1, 2, 3, ..., 9.\n",
        "\n",
        "6. Create a static `listDiv()` method that gets all the divisors of a given integer on new list called  Ldiv. Create another `listDivPrim()` method that gets all the prime divisors of a given integer."
      ],
      "metadata": {
        "id": "QovcQAZTrgGU"
      }
    },
    {
      "cell_type": "code",
      "source": [
        "class Computation:\n",
        "  def __init__(self):\n",
        "     pass\n",
        "\n",
        "  def factorial(self):\n",
        "    s=int(input())\n",
        "    fact=1\n",
        "    while s>1:\n",
        "      fact=s*fact\n",
        "      s=s-1\n",
        "    return fact\n",
        "\n",
        "  def sum_to_n(self):\n",
        "    num=int(input())\n",
        "    sum1=(num*(num+1))//2\n",
        "    return sum1\n",
        "\n",
        "  def is_prime(self):\n",
        "    num1=int(input())\n",
        "    if num1 <= 1:\n",
        "     return \"not prime\"\n",
        "    for i in range(2, int(num1**0.5) + 1):\n",
        "     if num1 % i == 0:\n",
        "        return \"not prime\"\n",
        "    return \"prime\"\n",
        "\n",
        "\n",
        "\n",
        "  def test_prims(self,a,b):\n",
        "    import math\n",
        "    if math.gcd(a,b)==1:\n",
        "      print(\"prime to each\")\n",
        "    else:\n",
        "      print(\"not prime to each other\")\n",
        "\n",
        "\n",
        "  def integer_table(self,n):\n",
        "    for i in range(1,11):\n",
        "     print(n ,'*', i  ,'=', n*i )\n",
        "\n",
        "\n",
        "  def all_table_mul(self):\n",
        "    for n in range (1,10):\n",
        "     for i in range(1,11):\n",
        "      print(n ,'*', i  ,'=', n*i )\n",
        "     print('---------------------------')\n",
        "\n",
        "\n",
        "  def factors(self,n):\n",
        "    for i in range(1,n+1):\n",
        "      if n%i==0:\n",
        "        print(i)\n",
        "\n",
        "  def prime_factors(self, n):\n",
        "    factors = []\n",
        "    if n <= 1:\n",
        "        return \"no prime factors\"\n",
        "\n",
        "    i = 2\n",
        "    while i * i <= n:\n",
        "        while n % i == 0:\n",
        "            factors.append(i)\n",
        "            n //= i\n",
        "        i += 1\n",
        "    if n > 1:\n",
        "        factors.append(n)\n",
        "    return factors"
      ],
      "metadata": {
        "id": "YEkPH70l6Z-o"
      },
      "execution_count": null,
      "outputs": []
    },
    {
      "cell_type": "code",
      "source": [
        "ob= Computation()\n",
        "#print(ob.factorial())\n",
        "#print(ob.sum_to_n())\n",
        "#print(ob.is_prime())\n",
        "#ob.test_prims(15, 3)\n",
        "#ob.integer_table(4)\n",
        "#ob.all_table_mul()\n",
        "#ob.factors(256)\n",
        "print(ob.prime_factors(1))"
      ],
      "metadata": {
        "colab": {
          "base_uri": "https://localhost:8080/"
        },
        "id": "jwW1J_MlFJed",
        "outputId": "4caf73f2-3e0a-4a20-cfde-f1a565f72d74"
      },
      "execution_count": null,
      "outputs": [
        {
          "output_type": "stream",
          "name": "stdout",
          "text": [
            "no prime factors\n"
          ]
        }
      ]
    },
    {
      "cell_type": "markdown",
      "source": [
        "##`Q-4`: Build flashcard using class in Python.\n",
        "\n",
        "Build a flashcard using class in python. A flashcard is a card having information on both sides, which can be used as an aid in memoization. Flashcards usually have a question on one side and an answer on the other.\n",
        "\n",
        "**Example 1:**\n",
        "\n",
        "Approach:\n",
        "\n",
        "- Create a class named FlashCard.\n",
        "- Initialize dictionary fruits using __init__() method. Here you have to define fruit name as key and it's color as value. E.g., {\"Banana\": \"yellow\", \"Strawberries\": \"pink\"}\n",
        "- Now randomly choose a pair from fruits by using _random_ module and store the key in variable _fruit_ and _value_ in variable color.\n",
        "- Now prompt the user to answer the color of the randomly chosen fruit.\n",
        "- If correct print correct else print wrong.\n",
        "\n",
        "Output:\n",
        "```bash\n",
        "welcome to fruit quiz\n",
        "What is the color of Strawberries\n",
        "pink\n",
        "Correct answer\n",
        "Enter 0, if you want to play again: 0\n",
        "What is the color of watermelon\n",
        "green\n",
        "Correct answer\n",
        "Enter 0, if you want to play again: 1\n",
        "```"
      ],
      "metadata": {
        "id": "0yn23_oEriXa"
      }
    },
    {
      "cell_type": "code",
      "source": [
        "import random\n",
        "class FlashCard :\n",
        "  def __init__(self):\n",
        "    self.fruits = {\n",
        "       'Banana': 'yellow',\n",
        "       'Strawberries': 'pink',\n",
        "       'Apple': 'red',\n",
        "       'Grapes': 'black',\n",
        "       'Orange': 'orange',\n",
        "       'Watermelon': 'green',\n",
        "       'Blueberries': 'blue',\n",
        "       'Pineapple': 'brown',\n",
        "       'Mango': 'yellow',\n",
        "       'Kiwi': 'green',\n",
        "       'Papaya': 'orange',\n",
        "       'Cherry': 'red',\n",
        "       'Pear': 'green',\n",
        "       'Plum': 'purple',\n",
        "       'Lemon': 'yellow',\n",
        "       'Pomegranate': 'red',\n",
        "       'Coconut': 'brown',\n",
        "       'Guava': 'green',\n",
        "       'Peach': 'pink',\n",
        "       'Blackberries': 'black'\n",
        "     }\n",
        "    print('Welcome to fruit quiz')\n",
        "    self.fruit=None\n",
        "    self.color=None\n",
        "\n",
        "  def rand(self):\n",
        "\n",
        "    self.fruit = random.choice(list(self.fruits.keys()))\n",
        "    self.color = self.fruits[self.fruit]\n",
        "    print('what is the color of',self.fruit)\n",
        "    stri=str(input())\n",
        "    if stri== self.color:\n",
        "      print('your answer is correct')\n",
        "    else:\n",
        "      print('your answer is incorrect')\n",
        "    self.replay()\n",
        "\n",
        "  def replay(self):\n",
        "    rep=input(\"\"\"\n",
        "             if you want to play\n",
        "             Press --> 1\n",
        "             if not\n",
        "             any other key\n",
        "             \"\"\")\n",
        "    if rep==\"1\":\n",
        "      self.rand()\n",
        "    else:\n",
        "      exit()\n",
        "\n",
        "\n",
        "\n",
        "fc= FlashCard ()\n",
        "fc.rand()\n",
        "\n",
        "\n",
        "\n",
        "\n"
      ],
      "metadata": {
        "id": "vCrUF6VU6l6w",
        "colab": {
          "base_uri": "https://localhost:8080/"
        },
        "outputId": "70adfaf3-056e-40ee-e6a1-c02d69ba1446"
      },
      "execution_count": null,
      "outputs": [
        {
          "name": "stdout",
          "output_type": "stream",
          "text": [
            "Welcome to fruit quiz\n",
            "what is the color of Pineapple\n",
            "brown\n",
            "your answer is correct\n",
            "\n",
            "             if you want to play \n",
            "             Press --> 1\n",
            "             if not\n",
            "             any other key\n",
            "             5\n"
          ]
        }
      ]
    },
    {
      "cell_type": "markdown",
      "source": [
        "## `Q-5:` Problem 5 based on OOP Python.\n",
        "\n",
        "TechWorld, a technology training center, wants to allocate courses for instructors. An instructor is identified by name, technology skills, experience and average feedback. An instructor is allocated a course, if he/she satisfies the below two conditions:\n",
        "- eligibility criteria:\n",
        "    - if experience is more than 3 years, average feedback should be 4.5 or more\n",
        "    - if experience is 3 years or less, average feedback should be 4 or more\n",
        "- he/she should posses the technology skill for the course\n",
        "\n",
        "Identify the class name and attributes to represent instructors. Write a Python program to implement the class chosen with its attributes and methods.\n",
        "\n",
        "**Note:**\n",
        "- Consider all instance variables to be private and methods to be public.\n",
        "- An instructor may have multiple technology skills, so consider instance variable, technology_skill to be a list.\n",
        "- *check_eligibility()*: Return true if eligibility criteria is satisfied by the instructor. Else, return false\n",
        "- *allocate_course(technology)*: Return true if the course which requires the given technology can be allocated to the instructor. Else, return false.\n",
        "\n",
        "Represent a few objects of the class, initialize instance variables using setter methods, invoke\n",
        "appropriate methods and test your program."
      ],
      "metadata": {
        "id": "GN2r0jbRewYr"
      }
    },
    {
      "cell_type": "code",
      "source": [
        "class Instructor:\n",
        "  def __init__ (self):\n",
        "    self.__name=\"\"\n",
        "    self.__skill=[]\n",
        "    self.__experience=0.0\n",
        "    self.__feedback=0.0\n",
        "\n",
        "\n",
        "  def set_name(self,name):\n",
        "    self.__name=name\n",
        "\n",
        "  def set_skill(self,skill):\n",
        "    self.__skill=skill\n",
        "\n",
        "  def set_experience(self,experience):\n",
        "    self.__experience=experience\n",
        "\n",
        "  def set_feedback(self,feedback):\n",
        "    self.__feedback=feedback\n",
        "\n",
        "  def eligibility(self):\n",
        "    if self.__experience>3 and self.__feedback >=4.5:\n",
        "      return True\n",
        "    if self.__experience<=3 and self.__feedback >=4.0:\n",
        "      return True\n",
        "    else :\n",
        "      return False\n",
        "\n",
        "  def course(self,technology):\n",
        "    if self.eligibility() and technology in self.__skill:\n",
        "      return True\n",
        "    else :\n",
        "      return False"
      ],
      "metadata": {
        "id": "pdMFuVFnlvKL"
      },
      "execution_count": 18,
      "outputs": []
    },
    {
      "cell_type": "code",
      "source": [
        "\n",
        "instructor1 = Instructor()\n",
        "instructor1.set_name(\"A\")\n",
        "instructor1.set_skill([\"Python\", \"Java\"])\n",
        "instructor1.set_experience(4)\n",
        "instructor1.set_feedback(4.6)\n",
        "\n",
        "print(instructor1.course(\"Python\"))\n",
        "print(instructor1.course(\"C++\"))\n"
      ],
      "metadata": {
        "colab": {
          "base_uri": "https://localhost:8080/"
        },
        "id": "hiEnhz-I5FKu",
        "outputId": "77fff706-9c3b-4d01-d29a-576490ce8a85"
      },
      "execution_count": 20,
      "outputs": [
        {
          "output_type": "stream",
          "name": "stdout",
          "text": [
            "True\n",
            "False\n"
          ]
        }
      ]
    }
  ]
}